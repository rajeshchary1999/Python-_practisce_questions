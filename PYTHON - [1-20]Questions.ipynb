{
 "cells": [
  {
   "cell_type": "markdown",
   "id": "df740b61",
   "metadata": {},
   "source": [
    "# 1.User will input (3ages).Find the oldest one"
   ]
  },
  {
   "cell_type": "code",
   "execution_count": 1,
   "id": "9eb36698",
   "metadata": {},
   "outputs": [
    {
     "name": "stdout",
     "output_type": "stream",
     "text": [
      "enter the value15\n",
      "enter the value25\n",
      "enter the value10\n",
      "the oldest value: 25\n"
     ]
    }
   ],
   "source": [
    "a = int(input(\"enter the value\"))\n",
    "b = int(input(\"enter the value\"))\n",
    "c = int(input(\"enter the value\"))\n",
    "\n",
    "\n",
    "max = a\n",
    "\n",
    "if max < b:\n",
    "    max = b\n",
    "if max < c:\n",
    "    max = c\n",
    "print(\"the oldest value:\",max)"
   ]
  },
  {
   "cell_type": "markdown",
   "id": "4ece6b60",
   "metadata": {},
   "source": [
    "# 2.Write a program that will convert celsius value to fahrenheit"
   ]
  },
  {
   "cell_type": "code",
   "execution_count": 2,
   "id": "b19b06c8",
   "metadata": {},
   "outputs": [
    {
     "name": "stdout",
     "output_type": "stream",
     "text": [
      "enter the number250\n",
      "482.0\n"
     ]
    }
   ],
   "source": [
    "# Python Program to convert temperature in celsius to fahrenheit\n",
    "\n",
    "temp = float(input(\"enter the number\"))\n",
    "\n",
    "fahrenheit = (temp * 1.8)+32\n",
    "print(fahrenheit)\n"
   ]
  },
  {
   "cell_type": "markdown",
   "id": "0a4871f2",
   "metadata": {},
   "source": [
    "# 3.User will input (2numbers).Write a program to swap the numbers"
   ]
  },
  {
   "cell_type": "code",
   "execution_count": 3,
   "id": "37ef5aa4",
   "metadata": {},
   "outputs": [
    {
     "name": "stdout",
     "output_type": "stream",
     "text": [
      "enter your first number15\n",
      "enter your second number25\n",
      "the value of A: 25\n",
      "the value of B: 15\n"
     ]
    }
   ],
   "source": [
    "A = int(input(\"enter your first number\"))\n",
    "B = int(input(\"enter your second number\"))\n",
    "\n",
    "swap = A\n",
    "A = B\n",
    "B = swap\n",
    "\n",
    "print('the value of A:', A)\n",
    "print('the value of B:', B)"
   ]
  },
  {
   "cell_type": "markdown",
   "id": "b16105a1",
   "metadata": {},
   "source": [
    "# 4.Write a program that will give you the sum of 3 digits"
   ]
  },
  {
   "cell_type": "code",
   "execution_count": 4,
   "id": "ee37383a",
   "metadata": {},
   "outputs": [
    {
     "name": "stdout",
     "output_type": "stream",
     "text": [
      "Enter The First Number10\n",
      "Enter The Second Number10\n",
      "Enter The Third Number10\n",
      "Three Numbers are :  10 10 10\n",
      "Sum is :  30\n"
     ]
    }
   ],
   "source": [
    "num1 = int(input(\"Enter The First Number\"))\n",
    "num2 = int(input(\"Enter The Second Number\"))\n",
    "num3 = int(input(\"Enter The Third Number\"))\n",
    "\n",
    "sum  = num1+num2+num3\n",
    "print(\"Three Numbers are : \", num1, num2, num3)\n",
    "print(\"Sum is : \",sum)"
   ]
  },
  {
   "cell_type": "markdown",
   "id": "542fac25",
   "metadata": {},
   "source": [
    "# 5.Write a program that will reverse a four digit number.Also it checks whether the reverse is true."
   ]
  },
  {
   "cell_type": "code",
   "execution_count": 5,
   "id": "c2f3131c",
   "metadata": {},
   "outputs": [
    {
     "name": "stdout",
     "output_type": "stream",
     "text": [
      "enter the number12345\n",
      "54321\n",
      "false\n"
     ]
    }
   ],
   "source": [
    "num = int(input(\"enter the number\"))    # slicing\n",
    "\n",
    "reverse = print(str(num)[::-1])\n",
    "\n",
    "# chech the true or false\n",
    "if num == reverse:\n",
    "    print('true')\n",
    "else:\n",
    "    print('false')"
   ]
  },
  {
   "cell_type": "markdown",
   "id": "5f5b0d81",
   "metadata": {},
   "source": [
    "# 6.Write a program that will tell whether the number entered by the user is odd or even."
   ]
  },
  {
   "cell_type": "code",
   "execution_count": 6,
   "id": "7741a739",
   "metadata": {},
   "outputs": [
    {
     "name": "stdout",
     "output_type": "stream",
     "text": [
      "enter the number2\n",
      "even\n"
     ]
    }
   ],
   "source": [
    "number  = int(input(\"enter the number\"))\n",
    "\n",
    "#statement\n",
    "if number%2 == 0:\n",
    "    print(\"even\")\n",
    "else:\n",
    "    print(\"odd\")"
   ]
  },
  {
   "cell_type": "code",
   "execution_count": 7,
   "id": "ece708d0",
   "metadata": {},
   "outputs": [
    {
     "name": "stdout",
     "output_type": "stream",
     "text": [
      "enter the number5\n",
      "odd\n"
     ]
    }
   ],
   "source": [
    "number  = int(input(\"enter the number\"))\n",
    "\n",
    "#statement\n",
    "if number%2 == 0:\n",
    "    print(\"even\")\n",
    "else:\n",
    "    print(\"odd\")"
   ]
  },
  {
   "cell_type": "markdown",
   "id": "e3bd8409",
   "metadata": {},
   "source": [
    "# 7.Write a program that will tell whether the given year is a leap year or not."
   ]
  },
  {
   "cell_type": "code",
   "execution_count": 8,
   "id": "c841fbd6",
   "metadata": {},
   "outputs": [
    {
     "name": "stdout",
     "output_type": "stream",
     "text": [
      "enter the year number2020\n",
      "leap year\n"
     ]
    }
   ],
   "source": [
    "year = int(input('enter the year number'))\n",
    "\n",
    "if year % 4 == 0:\n",
    "    print(\"leap year\")\n",
    "else:\n",
    "    print(\"not leap\")"
   ]
  },
  {
   "cell_type": "code",
   "execution_count": 9,
   "id": "9e868134",
   "metadata": {},
   "outputs": [
    {
     "name": "stdout",
     "output_type": "stream",
     "text": [
      "enter the year number2021\n",
      "not leap\n"
     ]
    }
   ],
   "source": [
    "year = int(input('enter the year number'))\n",
    "\n",
    "if year % 4 == 0:\n",
    "    print(\"leap year\")\n",
    "else:\n",
    "    print(\"not leap\")"
   ]
  },
  {
   "cell_type": "markdown",
   "id": "3e043fa4",
   "metadata": {},
   "source": [
    "# 8.Write a program to find the euclidean distance between two coordinates."
   ]
  },
  {
   "cell_type": "code",
   "execution_count": 10,
   "id": "15a6b994",
   "metadata": {},
   "outputs": [
    {
     "name": "stdout",
     "output_type": "stream",
     "text": [
      "enter the value x1 1\n",
      "enter the value y1 5\n",
      "enter the value x2 7\n",
      "enter the value y2 8\n",
      "euclidean distance 6.708203932499369\n"
     ]
    }
   ],
   "source": [
    "x1 = float(input(\"enter the value x1 \"))\n",
    "y1 = float(input(\"enter the value y1 \"))\n",
    "x2 = float(input(\"enter the value x2 \"))\n",
    "y2 = float(input(\"enter the value y2 \"))\n",
    "\n",
    "\n",
    "D = ((x2 - x1)**2 + (y2 - y1)**2)**0.5\n",
    "print(\"euclidean distance\",D)"
   ]
  },
  {
   "cell_type": "code",
   "execution_count": 11,
   "id": "1b0dd272",
   "metadata": {},
   "outputs": [
    {
     "name": "stdout",
     "output_type": "stream",
     "text": [
      "euclidean distance\n"
     ]
    }
   ],
   "source": [
    "\n",
    "def euclidean_distance(x1,y1,x2,y2):\n",
    "    return ((x2 - x1)**2 + (y2 - y1)**2)**0.5\n",
    "\n",
    "print(\"euclidean distance\")"
   ]
  },
  {
   "cell_type": "code",
   "execution_count": 12,
   "id": "21b15219",
   "metadata": {},
   "outputs": [
    {
     "data": {
      "text/plain": [
       "3.0"
      ]
     },
     "execution_count": 12,
     "metadata": {},
     "output_type": "execute_result"
    }
   ],
   "source": [
    "euclidean_distance(1,2,4,2)\n"
   ]
  },
  {
   "cell_type": "markdown",
   "id": "788c9171",
   "metadata": {},
   "source": [
    "# 9.Write a program that take a user inputr of three angles and will find out whether it can form a triangle or not."
   ]
  },
  {
   "cell_type": "code",
   "execution_count": 13,
   "id": "338a2d89",
   "metadata": {},
   "outputs": [
    {
     "name": "stdout",
     "output_type": "stream",
     "text": [
      "enter the first angle 45\n",
      "enter the second angle 45\n",
      "enter the third angle 80\n",
      "not\n"
     ]
    }
   ],
   "source": [
    "a = int(input('enter the first angle '))\n",
    "b = int(input('enter the second angle '))\n",
    "c = int(input('enter the third angle '))\n",
    "\n",
    "if a + b + c == 180 and a!=0 and b!=0 and c!=0:\n",
    "    print(\"possible\")\n",
    "else:\n",
    "    print(\"not\")\n",
    "    \n",
    "\n"
   ]
  },
  {
   "cell_type": "code",
   "execution_count": 14,
   "id": "35ede669",
   "metadata": {},
   "outputs": [
    {
     "name": "stdout",
     "output_type": "stream",
     "text": [
      "enter the first angle 45\n",
      "enter the second angle 45\n",
      "enter the third angle 90\n",
      "possible\n"
     ]
    }
   ],
   "source": [
    "a = int(input('enter the first angle '))\n",
    "b = int(input('enter the second angle '))\n",
    "c = int(input('enter the third angle '))\n",
    "\n",
    "if a + b + c == 180 and a!=0 and b!=0 and c!=0:\n",
    "    print(\"possible\")\n",
    "else:\n",
    "    print(\"not\")\n",
    "    "
   ]
  },
  {
   "cell_type": "markdown",
   "id": "4a50bbbf",
   "metadata": {},
   "source": [
    "# 10.Write a program that will take user input of cost price and selling price and determines whether its a loss or a profit"
   ]
  },
  {
   "cell_type": "code",
   "execution_count": 15,
   "id": "df765bf4",
   "metadata": {},
   "outputs": [
    {
     "name": "stdout",
     "output_type": "stream",
     "text": [
      "enter the cost price500\n",
      "enter the selling price650\n",
      "profit 150.0\n"
     ]
    }
   ],
   "source": [
    "cp = float(input(\"enter the cost price\"))\n",
    "sp = float(input(\"enter the selling price\"))\n",
    "\n",
    "\n",
    "if cp > sp:\n",
    "    amount = cp-sp\n",
    "    print('loss',amount)\n",
    "else:\n",
    "    amount = sp - cp\n",
    "    print('profit',amount)"
   ]
  },
  {
   "cell_type": "markdown",
   "id": "bda753bf",
   "metadata": {},
   "source": [
    "# 11.Write a program to find the simple interest when the value of principle,rate of interest and time period is given."
   ]
  },
  {
   "cell_type": "code",
   "execution_count": 16,
   "id": "a57f8f7c",
   "metadata": {},
   "outputs": [
    {
     "name": "stdout",
     "output_type": "stream",
     "text": [
      "enter the principle amount:50000\n",
      "enter the rate of intreset:10\n",
      "enter the time period:20\n",
      "your simple intrest is: 100000.0\n",
      "your amount is: 150000.0\n"
     ]
    }
   ],
   "source": [
    "p = int(input(\"enter the principle amount:\"))\n",
    "r = int(input(\"enter the rate of intreset:\"))\n",
    "t = int(input(\"enter the time period:\"))\n",
    "\n",
    "si = (p * r * t)/100\n",
    "print(\"your simple intrest is:\",si)\n",
    "\n",
    "a = p + si\n",
    "print(\"your amount is:\",a)\n",
    "            "
   ]
  },
  {
   "cell_type": "markdown",
   "id": "219360c5",
   "metadata": {},
   "source": [
    "# 12.Write a program to find the volume of the cylinder."
   ]
  },
  {
   "cell_type": "code",
   "execution_count": 17,
   "id": "97fd63e2",
   "metadata": {},
   "outputs": [
    {
     "name": "stdout",
     "output_type": "stream",
     "text": [
      "enter your radius150\n",
      "enter your height20\n",
      "your volume is : 1413000.0\n",
      "your cost is : 1413000.0\n"
     ]
    }
   ],
   "source": [
    "r = float(input(\"enter your radius\"))\n",
    "h = float(input(\"enter your height\"))\n",
    "\n",
    "v = 3.14*(r**2)*h       #formula = pie*r2*h\n",
    "print('your volume is :', v)\n",
    "cost = v/1000 * 40 \n",
    "print('your cost is :',v)"
   ]
  },
  {
   "cell_type": "markdown",
   "id": "09cd1ee9",
   "metadata": {},
   "source": [
    "# 13.Write  a program that will tell whether the given number is divisible by 3 & 6."
   ]
  },
  {
   "cell_type": "code",
   "execution_count": 18,
   "id": "f92a118d",
   "metadata": {},
   "outputs": [
    {
     "name": "stdout",
     "output_type": "stream",
     "text": [
      "enter the number 10\n",
      "not divisible\n"
     ]
    }
   ],
   "source": [
    "num = int(input(\"enter the number \"))\n",
    "\n",
    "if num % 3 == 0 and num % 6 == 0:\n",
    "    print(\"divisible\")\n",
    "else:\n",
    "    print(\"not divisible\")\n"
   ]
  },
  {
   "cell_type": "code",
   "execution_count": 19,
   "id": "231ec3dd",
   "metadata": {},
   "outputs": [
    {
     "name": "stdout",
     "output_type": "stream",
     "text": [
      "enter the number: 12\n",
      "divisible\n"
     ]
    }
   ],
   "source": [
    "num = int(input(\"enter the number: \"))\n",
    "\n",
    "if num % 3 == 0 and num % 6 == 0:\n",
    "    print(\"divisible\")\n",
    "else:\n",
    "    print(\"not divisible\")"
   ]
  },
  {
   "cell_type": "markdown",
   "id": "42dc2482",
   "metadata": {},
   "source": [
    "# 14.Write a program that will determine weather when the value of temperature and humidity is provided by the user.\n",
    "\n",
    "            TEMPERATURE(C)      HUMIDITY(%)      WEATHER\n",
    "            \n",
    "            \n",
    "            >= 30                >=90               Hot and Humid\n",
    "            >= 30                < 90               Hot\n",
    "            <30                  >= 90              Cool and Humid\n",
    "            <30                  <90                Cool\n",
    "\n"
   ]
  },
  {
   "cell_type": "code",
   "execution_count": 20,
   "id": "0680ce95",
   "metadata": {},
   "outputs": [
    {
     "name": "stdout",
     "output_type": "stream",
     "text": [
      "enter the temp:50\n",
      "enter the humidity:50\n",
      "hot\n"
     ]
    }
   ],
   "source": [
    "weather = 0\n",
    "te = int(input(\"enter the temp:\"))\n",
    "hu = int(input(\"enter the humidity:\"))\n",
    "\n",
    "\n",
    "if te >= 30 and hu >= 90:\n",
    "    print(\"hot and humid\")\n",
    "if te >= 30 and hu < 90:\n",
    "    print(\"hot\")\n",
    "if te <30 and hu >= 90:\n",
    "    print(\"cool and humid\")\n",
    "if te<30 and hu < 90:\n",
    "    print(\"cool\")\n"
   ]
  },
  {
   "cell_type": "code",
   "execution_count": 21,
   "id": "a7d0c130",
   "metadata": {},
   "outputs": [
    {
     "name": "stdout",
     "output_type": "stream",
     "text": [
      "enter the temp:20\n",
      "enter the humidity:60\n",
      "cool\n"
     ]
    }
   ],
   "source": [
    "weather = 0\n",
    "te = int(input(\"enter the temp:\"))\n",
    "hu = int(input(\"enter the humidity:\"))\n",
    "\n",
    "\n",
    "if te >= 30 and hu >= 90:\n",
    "    print(\"hot and humid\")\n",
    "if te >= 30 and hu < 90:\n",
    "    print(\"hot\")\n",
    "if te <30 and hu >= 90:\n",
    "    print(\"cool and humid\")\n",
    "if te<30 and hu < 90:\n",
    "    print(\"cool\")\n"
   ]
  },
  {
   "cell_type": "markdown",
   "id": "d01dbabe",
   "metadata": {},
   "source": [
    "# 15.Write a program that will take three digits from the user and add the square of each digit"
   ]
  },
  {
   "cell_type": "code",
   "execution_count": 22,
   "id": "4d8a28dc",
   "metadata": {},
   "outputs": [
    {
     "name": "stdout",
     "output_type": "stream",
     "text": [
      "enter the one digit 10\n",
      "enter the second digit 10\n",
      "enter the third digit 10\n",
      "required number : 300\n"
     ]
    }
   ],
   "source": [
    "a = int(input(\"enter the one digit \"))\n",
    "b = int(input(\"enter the second digit \"))\n",
    "c = int(input(\"enter the third digit \"))\n",
    "\n",
    "\n",
    "add = (a**2)+ (b**2) + (c**2)\n",
    "print(\"required number :\",add)"
   ]
  },
  {
   "cell_type": "markdown",
   "id": "a8483a07",
   "metadata": {},
   "source": [
    "# 16.Write a program that will check whether the number is armstrong number or not."
   ]
  },
  {
   "cell_type": "code",
   "execution_count": 23,
   "id": "cbf69b89",
   "metadata": {},
   "outputs": [
    {
     "name": "stdout",
     "output_type": "stream",
     "text": [
      "Enter a number: 4565\n",
      "4565 is not an Armstrong number\n"
     ]
    }
   ],
   "source": [
    "# Python program to check if the number is an Armstrong number or not\n",
    "\n",
    "# take input from the user\n",
    "num = int(input(\"Enter a number: \"))\n",
    "\n",
    "# initialize sum\n",
    "sum = 0\n",
    "\n",
    "# find the sum of the cube of each digit\n",
    "temp = num\n",
    "while temp > 0:\n",
    "   digit = temp % 10\n",
    "   sum += digit ** 3\n",
    "   temp //= 10\n",
    "\n",
    "# display the result\n",
    "if num == sum:\n",
    "   print(num,\"is an Armstrong number\")\n",
    "else:\n",
    "   print(num,\"is not an Armstrong number\")"
   ]
  },
  {
   "cell_type": "code",
   "execution_count": 24,
   "id": "9575f967",
   "metadata": {},
   "outputs": [
    {
     "name": "stdout",
     "output_type": "stream",
     "text": [
      "Enter a number: 153\n",
      "153 is an Armstrong number\n"
     ]
    }
   ],
   "source": [
    "# Python program to check if the number is an Armstrong number or not\n",
    "\n",
    "# take input from the user\n",
    "num = int(input(\"Enter a number: \"))\n",
    "\n",
    "# initialize sum\n",
    "sum = 0\n",
    "\n",
    "# find the sum of the cube of each digit\n",
    "temp = num\n",
    "while temp > 0:\n",
    "   digit = temp % 10\n",
    "   sum += digit ** 3\n",
    "   temp //= 10\n",
    "\n",
    "# display the result\n",
    "if num == sum:\n",
    "   print(num,\"is an Armstrong number\")\n",
    "else:\n",
    "   print(num,\"is not an Armstrong number\")"
   ]
  },
  {
   "cell_type": "markdown",
   "id": "0e7aa2ef",
   "metadata": {},
   "source": [
    "# 17.Write a program that will take user input of (4 digits number) and check whether the number is narcissist number or not."
   ]
  },
  {
   "cell_type": "code",
   "execution_count": 26,
   "id": "409748eb",
   "metadata": {},
   "outputs": [
    {
     "name": "stdout",
     "output_type": "stream",
     "text": [
      "enter a four digit number4568\n",
      "not a narcastict number\n"
     ]
    }
   ],
   "source": [
    "user_input = int(input(\"enter a four digit number\"))\n",
    "num = user_input\n",
    "\n",
    "a = num % 10\n",
    "num = num // 10\n",
    "b = num %10\n",
    "num  = num // 10\n",
    "c = num % 10\n",
    "d = num // 10\n",
    "\n",
    "if (a**4) + (b**4) + (c**4) +(d**4) == user_input:\n",
    "    print('Narcastict number')\n",
    "else:\n",
    "    print('not a narcastict number')\n",
    "    \n",
    "    "
   ]
  },
  {
   "cell_type": "code",
   "execution_count": 31,
   "id": "358c77de",
   "metadata": {},
   "outputs": [
    {
     "name": "stdout",
     "output_type": "stream",
     "text": [
      "enter a four digit number1634\n",
      "Narcastict number\n"
     ]
    }
   ],
   "source": [
    "user_input = int(input(\"enter a four digit number\"))\n",
    "num = user_input\n",
    "\n",
    "a = num % 10\n",
    "num = num // 10\n",
    "b = num %10\n",
    "num  = num // 10\n",
    "c = num % 10\n",
    "d = num // 10\n",
    "\n",
    "if (a**4) + (b**4) + (c**4) +(d**4) == user_input:\n",
    "    print('Narcastict number')\n",
    "else:\n",
    "    print('not a narcastict number')"
   ]
  },
  {
   "cell_type": "markdown",
   "id": "000ff240",
   "metadata": {},
   "source": [
    "# 18.Write a program that will give you the in hand salary after deduction of HRA(10%),DA(5%),PF(3%), and tax(if salary is between 5-10 lakh–10%),(11-20lakh–20%),(20< _   – 30%)(0-1lakh print k).\n"
   ]
  },
  {
   "cell_type": "code",
   "execution_count": 32,
   "id": "cb07c894",
   "metadata": {},
   "outputs": [
    {
     "name": "stdout",
     "output_type": "stream",
     "text": [
      "enter your annual salary:6000000\n",
      "after salary deduction : 4200000.0\n",
      "in hand salary is: 287000.0\n",
      "0.287 1\n"
     ]
    }
   ],
   "source": [
    "user_input = float(input(\"enter your annual salary:\"))\n",
    "\n",
    "if user_input > 500000 and user_input <1000000:\n",
    "    tax = (10/100)*user_input\n",
    "    temp_salary = user_input - tax\n",
    "elif user_input > 1000000 and user_input < 2000000:\n",
    "    tax = (20/100)*user_input\n",
    "    temp_salary = user_input - tax\n",
    "else:\n",
    "    tax = (30/100)* user_input\n",
    "    temp_salary = user_input - tax\n",
    "    \n",
    "    \n",
    "print(\"after salary deduction :\",temp_salary)\n",
    "\n",
    "\n",
    "hra = (10/100)*temp_salary\n",
    "da = (5/100)*temp_salary\n",
    "pf = (3/100)*temp_salary\n",
    "\n",
    "in_handsalary = (temp_salary - hra - da - pf)/12\n",
    "print('in hand salary is:',in_handsalary)\n",
    "\n",
    "if in_handsalary  <= 999:\n",
    "    print(in_handsalary)\n",
    "elif in_handsalary >=1000 and in_handsalary <=9999:\n",
    "    print(in_handsalary/1000,'k')\n",
    "elif in_handsalary >= 100000 and in_handsalary <= 9999999:\n",
    "    print(in_handsalary/1000000,'1')\n",
    "else:\n",
    "    print(in_handsalary/1000000,'cr')"
   ]
  },
  {
   "cell_type": "code",
   "execution_count": 33,
   "id": "f01fade0",
   "metadata": {},
   "outputs": [
    {
     "name": "stdout",
     "output_type": "stream",
     "text": [
      "enter your annual salary:90000000\n",
      "after salary deduction : 63000000.0\n",
      "in hand salary is: 4305000.0\n",
      "4.305 1\n"
     ]
    }
   ],
   "source": [
    "user_input = float(input(\"enter your annual salary:\"))\n",
    "\n",
    "if user_input > 500000 and user_input <1000000:\n",
    "    tax = (10/100)*user_input\n",
    "    temp_salary = user_input - tax\n",
    "elif user_input > 1000000 and user_input < 2000000:\n",
    "    tax = (20/100)*user_input\n",
    "    temp_salary = user_input - tax\n",
    "else:\n",
    "    tax = (30/100)* user_input\n",
    "    temp_salary = user_input - tax\n",
    "    \n",
    "    \n",
    "print(\"after salary deduction :\",temp_salary)\n",
    "\n",
    "\n",
    "hra = (10/100)*temp_salary\n",
    "da = (5/100)*temp_salary\n",
    "pf = (3/100)*temp_salary\n",
    "\n",
    "in_handsalary = (temp_salary - hra - da - pf)/12\n",
    "print('in hand salary is:',in_handsalary)\n",
    "\n",
    "if in_handsalary  <= 999:\n",
    "    print(in_handsalary)\n",
    "elif in_handsalary >=1000 and in_handsalary <=9999:\n",
    "    print(in_handsalary/1000,'k')\n",
    "elif in_handsalary >= 100000 and in_handsalary <= 9999999:\n",
    "    print(in_handsalary/1000000,'1')\n",
    "else:\n",
    "    print(in_handsalary/1000000,'cr')"
   ]
  },
  {
   "cell_type": "markdown",
   "id": "eef60c7a",
   "metadata": {},
   "source": [
    "# 19.Write a menu driven program - 1.cm to ft  2.kl to miles  3.usd to inr  4.exit"
   ]
  },
  {
   "cell_type": "code",
   "execution_count": 34,
   "id": "fd4fb886",
   "metadata": {},
   "outputs": [
    {
     "name": "stdout",
     "output_type": "stream",
     "text": [
      "\n",
      "HI! Welcome To My Page\n",
      "What Would Like To DO \n",
      "\n",
      "1.convert cm to inches\n",
      "2.convert km to miles\n",
      "3.convert usd to inr\n",
      "4.EXIST 3\n",
      "enter a amount in usd50\n",
      "your in amount: 3831.5\n"
     ]
    }
   ],
   "source": [
    "user = input('''\n",
    "HI! Welcome To My Page\n",
    "What Would Like To DO \n",
    "\n",
    "1.convert cm to inches\n",
    "2.convert km to miles\n",
    "3.convert usd to inr\n",
    "4.EXIST ''')\n",
    "\n",
    "if user == '1':\n",
    "    cm  = float(input(\"enter a value in cm\"))\n",
    "    inch = cm* 0.394\n",
    "    print(\"your value is inch:\",inch)\n",
    "elif user == '2':\n",
    "    km = float(input(\"enter a value in km\"))\n",
    "    mile = km* 0.621\n",
    "    print(\"your value in mile:\",mile)\n",
    "elif user == '3':\n",
    "    usd = float(input(\"enter a amount in usd\"))\n",
    "    inr  = usd * 76.63\n",
    "    print(\"your in amount:\",inr)\n",
    "else:\n",
    "    print(\"exist\")\n",
    "    "
   ]
  },
  {
   "cell_type": "code",
   "execution_count": 35,
   "id": "bfa0b4d0",
   "metadata": {},
   "outputs": [
    {
     "name": "stdout",
     "output_type": "stream",
     "text": [
      "\n",
      "HI! Welcome To My Page\n",
      "What Would Like To DO \n",
      "\n",
      "1.convert cm to inches\n",
      "2.convert km to miles\n",
      "3.convert usd to inr\n",
      "4.EXIST 1\n",
      "enter a value in cm50\n",
      "your value is inch: 19.7\n"
     ]
    }
   ],
   "source": [
    "user = input('''\n",
    "HI! Welcome To My Page\n",
    "What Would Like To DO \n",
    "\n",
    "1.convert cm to inches\n",
    "2.convert km to miles\n",
    "3.convert usd to inr\n",
    "4.EXIST ''')\n",
    "\n",
    "if user == '1':\n",
    "    cm  = float(input(\"enter a value in cm\"))\n",
    "    inch = cm* 0.394\n",
    "    print(\"your value is inch:\",inch)\n",
    "elif user == '2':\n",
    "    km = float(input(\"enter a value in km\"))\n",
    "    mile = km* 0.621\n",
    "    print(\"your value in mile:\",mile)\n",
    "elif user == '3':\n",
    "    usd = float(input(\"enter a amount in usd\"))\n",
    "    inr  = usd * 76.63\n",
    "    print(\"your in amount:\",inr)\n",
    "else:\n",
    "    print(\"exist\")\n",
    "    "
   ]
  },
  {
   "cell_type": "markdown",
   "id": "bff4e213",
   "metadata": {},
   "source": [
    "# 20.Take the current units from user and predict the amount to pay"
   ]
  },
  {
   "cell_type": "code",
   "execution_count": 36,
   "id": "ee8cc345",
   "metadata": {},
   "outputs": [
    {
     "name": "stdout",
     "output_type": "stream",
     "text": [
      "Enter number of electric unit51\n",
      "Amount to pay : 0\n"
     ]
    }
   ],
   "source": [
    "amt=0\n",
    "nu=int(input(\"Enter number of electric unit\"))\n",
    "if nu<=100:\n",
    "     amt=0\n",
    "if nu>100 and nu<=200:\n",
    "     amt=(nu-100)*5\n",
    "if nu>200:\n",
    "     amt=500+(nu-200)*10\n",
    "print(\"Amount to pay :\",amt)"
   ]
  },
  {
   "cell_type": "code",
   "execution_count": 38,
   "id": "987095ab",
   "metadata": {},
   "outputs": [
    {
     "name": "stdout",
     "output_type": "stream",
     "text": [
      "Enter number of electric unit500\n",
      "Amount to pay : 3500\n"
     ]
    }
   ],
   "source": [
    "amt=0\n",
    "nu=int(input(\"Enter number of electric unit\"))\n",
    "if nu<=100:\n",
    "     amt=0\n",
    "if nu>100 and nu<=200:\n",
    "     amt=(nu-100)*5\n",
    "if nu>200:\n",
    "     amt=500+(nu-200)*10\n",
    "print(\"Amount to pay :\",amt)"
   ]
  },
  {
   "cell_type": "code",
   "execution_count": null,
   "id": "8b0cd082",
   "metadata": {},
   "outputs": [],
   "source": []
  }
 ],
 "metadata": {
  "kernelspec": {
   "display_name": "Python 3 (ipykernel)",
   "language": "python",
   "name": "python3"
  },
  "language_info": {
   "codemirror_mode": {
    "name": "ipython",
    "version": 3
   },
   "file_extension": ".py",
   "mimetype": "text/x-python",
   "name": "python",
   "nbconvert_exporter": "python",
   "pygments_lexer": "ipython3",
   "version": "3.9.7"
  }
 },
 "nbformat": 4,
 "nbformat_minor": 5
}
