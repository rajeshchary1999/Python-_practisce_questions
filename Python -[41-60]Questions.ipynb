{
 "cells": [
  {
   "cell_type": "markdown",
   "id": "62592229",
   "metadata": {},
   "source": [
    "# 41.Write a program to print the following pattern\n",
    "             *\n",
    "             ** \n",
    "             ***\n",
    "             ****\n",
    "             *****\n"
   ]
  },
  {
   "cell_type": "code",
   "execution_count": 1,
   "id": "69a4005f",
   "metadata": {},
   "outputs": [
    {
     "name": "stdout",
     "output_type": "stream",
     "text": [
      "Enter the number of rows5\n",
      "* \n",
      "* * \n",
      "* * * \n",
      "* * * * \n",
      "* * * * * \n"
     ]
    }
   ],
   "source": [
    "#Program to print Left Half Pyramid\n",
    "num_rows = int(input(\"Enter the number of rows\"));\n",
    "k = 1\n",
    "for i in range(0, num_rows):\n",
    "    for j in range(0, k):\n",
    "        print(\"* \", end=\"\")\n",
    "    k = k + 1\n",
    "    print()"
   ]
  },
  {
   "cell_type": "markdown",
   "id": "d40ab045",
   "metadata": {},
   "source": [
    "# 42.Write a program to print the following pattern\n",
    "       *\n",
    "       **\n",
    "       ***\n",
    "       **\n",
    "       *\n"
   ]
  },
  {
   "cell_type": "code",
   "execution_count": 2,
   "id": "b10d7b6d",
   "metadata": {},
   "outputs": [
    {
     "name": "stdout",
     "output_type": "stream",
     "text": [
      "Enter the number of rows: 5\n",
      "* \n",
      "* * \n",
      "* * * \n",
      "* * * * \n",
      "* * * * * \n",
      "* * * * \n",
      "* * * \n",
      "* * \n",
      "* \n",
      "\n"
     ]
    }
   ],
   "source": [
    "def pattern(n):\n",
    "   # print upper triangle\n",
    "   for i in range(n):\n",
    "      for j in range(i+1):\n",
    "         # printing stars\n",
    "         print(\"* \",end=\"\")\n",
    "      print(\"\\r\")\n",
    "      \n",
    "   # print lower triangle\n",
    "   for i in range(n):\n",
    "      for j in range(n-i-1):\n",
    "         # printing stars\n",
    "         print(\"* \",end=\"\")\n",
    "      print(\"\\r\")\n",
    " \n",
    "# take inputs\n",
    "n = int(input('Enter the number of rows: '))\n",
    "\n",
    "# calling function\n",
    "pattern(n)"
   ]
  },
  {
   "cell_type": "markdown",
   "id": "05983c0b",
   "metadata": {},
   "source": [
    "# 43. Write  a program to print the following pattern\n",
    "         *\n",
    "       * * *\n",
    "     * * * * *\n",
    "    * * * * * * *\n"
   ]
  },
  {
   "cell_type": "code",
   "execution_count": 3,
   "id": "ab9ad89f",
   "metadata": {},
   "outputs": [
    {
     "name": "stdout",
     "output_type": "stream",
     "text": [
      "Enter the number of rows: 5\n",
      "    * \n",
      "   * * \n",
      "  * * * \n",
      " * * * * \n",
      "* * * * * \n"
     ]
    }
   ],
   "source": [
    "# Python star pattern to print triangle\n",
    "\n",
    "def pattern(n):\n",
    "   i = 1\n",
    "   while i<=n:\n",
    "      # printing stars\n",
    "      print(\" \"*(n-i) + \"* \" * i)\n",
    "      i+=1 \n",
    " \n",
    "# take inputs\n",
    "n = int(input('Enter the number of rows: '))\n",
    "\n",
    "# calling function\n",
    "pattern(n)"
   ]
  },
  {
   "cell_type": "markdown",
   "id": "c8dcb4ff",
   "metadata": {},
   "source": [
    "# 44.Write a program to print the following pattern\n",
    "             [0]\n",
    "             [0, 1]\n",
    "             [0, 1, 2]\n",
    "             [0, 1, 2, 3]\n",
    "             [0, 1, 2, 3, 4]\n",
    "             [0, 1, 2, 3, 4, 5]\n",
    "             [0, 1, 2, 3, 4, 5, 6]\n",
    "             [0, 1, 2, 3, 4, 5, 6, 7]\n",
    "             [0, 1, 2, 3, 4, 5, 6, 7, 8]\n",
    "             [0, 1, 2, 3, 4, 5, 6, 7, 8, 9]"
   ]
  },
  {
   "cell_type": "code",
   "execution_count": 4,
   "id": "7eed799d",
   "metadata": {},
   "outputs": [
    {
     "name": "stdout",
     "output_type": "stream",
     "text": [
      "[0]\n",
      "[0, 1]\n",
      "[0, 1, 2]\n",
      "[0, 1, 2, 3]\n",
      "[0, 1, 2, 3, 4]\n",
      "[0, 1, 2, 3, 4, 5]\n",
      "[0, 1, 2, 3, 4, 5, 6]\n",
      "[0, 1, 2, 3, 4, 5, 6, 7]\n",
      "[0, 1, 2, 3, 4, 5, 6, 7, 8]\n",
      "[0, 1, 2, 3, 4, 5, 6, 7, 8, 9]\n"
     ]
    }
   ],
   "source": [
    "myList = []\n",
    "i = 0\n",
    "\n",
    "while len(myList) < 10:\n",
    "  myList.append(i)\n",
    "  i +=1\n",
    "\n",
    "  print(myList)"
   ]
  },
  {
   "cell_type": "markdown",
   "id": "a763bf54",
   "metadata": {},
   "source": [
    "# 45.Write a program to calculate the sum of the following series till the nth term\n",
    "       1/1! + 2/2! + 3/3! + 4/4! +…….+ n/n!\n",
    "                                           n will be provided by the user"
   ]
  },
  {
   "cell_type": "code",
   "execution_count": 5,
   "id": "a024ccfd",
   "metadata": {},
   "outputs": [
    {
     "name": "stdout",
     "output_type": "stream",
     "text": [
      "enter the number10\n",
      "2.7182815255731922\n"
     ]
    }
   ],
   "source": [
    "# user input\n",
    "num  =  int(input(\"enter the number\"))\n",
    "result = 0\n",
    "fact = 1\n",
    "\n",
    "\n",
    "for i in range (1,num + 1):\n",
    "    fact = fact * i\n",
    "    result = result + (i/fact)\n",
    "print(result)"
   ]
  },
  {
   "cell_type": "markdown",
   "id": "57618a83",
   "metadata": {},
   "source": [
    "# 46.Extract username from a given email. \n",
    "         Eg if the email is grajeshchary771@gmail.com then the username should be grajeshchary771"
   ]
  },
  {
   "cell_type": "code",
   "execution_count": 6,
   "id": "d1ea9e71",
   "metadata": {},
   "outputs": [
    {
     "name": "stdout",
     "output_type": "stream",
     "text": [
      "enter your emailgrajeshchary771@gmail.com\n",
      "grajeshchary771\n"
     ]
    }
   ],
   "source": [
    "email = input(\"enter your email\")\n",
    "username, mail = email.split(\"@\")\n",
    "print(username)"
   ]
  },
  {
   "cell_type": "markdown",
   "id": "308da260",
   "metadata": {},
   "source": [
    "# 47.Write a python program to remove all the duplicates from a list"
   ]
  },
  {
   "cell_type": "code",
   "execution_count": 7,
   "id": "95f8b23c",
   "metadata": {},
   "outputs": [
    {
     "name": "stdout",
     "output_type": "stream",
     "text": [
      "[1, 2, 3, 4, 5, 6, 7, 8]\n"
     ]
    }
   ],
   "source": [
    "l1 = [1,1,2,3,3,4,5,6,6,7,7,7,8]\n",
    "l2 = []\n",
    "\n",
    "\n",
    "for i in l1:\n",
    "    if i not  in l2:\n",
    "        l2.append(i)\n",
    "print(l2)"
   ]
  },
  {
   "cell_type": "markdown",
   "id": "3541929f",
   "metadata": {},
   "source": [
    "# 48.Python program to find number of vowels in list\n"
   ]
  },
  {
   "cell_type": "code",
   "execution_count": 8,
   "id": "9956a6c1",
   "metadata": {},
   "outputs": [
    {
     "name": "stdout",
     "output_type": "stream",
     "text": [
      "enter your string  hi rajesh how are u\n",
      "7\n"
     ]
    }
   ],
   "source": [
    "a = input(\"enter your string  \")\n",
    "vowels = 'aeiou'\n",
    "count = 0\n",
    "\n",
    "for i in a:\n",
    "    if i in vowels:\n",
    "        count = count + 1\n",
    "print(count)"
   ]
  },
  {
   "cell_type": "markdown",
   "id": "16f526a4",
   "metadata": {},
   "source": [
    "# 49.Convert string to title case without title()"
   ]
  },
  {
   "cell_type": "code",
   "execution_count": 9,
   "id": "73f7d907",
   "metadata": {},
   "outputs": [
    {
     "name": "stdout",
     "output_type": "stream",
     "text": [
      "hello rajesh how are you\n"
     ]
    }
   ],
   "source": [
    "str = 'helLO RAjeSH How ARE you'\n",
    "a =str.lower()\n",
    "print(a)"
   ]
  },
  {
   "cell_type": "markdown",
   "id": "6f64338e",
   "metadata": {},
   "source": [
    "# 50.   Combine two list"
   ]
  },
  {
   "cell_type": "code",
   "execution_count": 10,
   "id": "85e7d59e",
   "metadata": {},
   "outputs": [],
   "source": [
    "l1 = [1,2,3,4,5]\n",
    "l2 = [5,7,8,9,10]\n",
    "L = []\n",
    "\n",
    "L = l1+l2"
   ]
  },
  {
   "cell_type": "code",
   "execution_count": 11,
   "id": "df940191",
   "metadata": {},
   "outputs": [
    {
     "data": {
      "text/plain": [
       "[1, 2, 3, 4, 5, 5, 7, 8, 9, 10]"
      ]
     },
     "execution_count": 11,
     "metadata": {},
     "output_type": "execute_result"
    }
   ],
   "source": [
    "L\n"
   ]
  },
  {
   "cell_type": "markdown",
   "id": "6552fdf6",
   "metadata": {},
   "source": [
    "# 51. Make a program in which user can  various functions"
   ]
  },
  {
   "cell_type": "code",
   "execution_count": 12,
   "id": "0e220af8",
   "metadata": {},
   "outputs": [
    {
     "name": "stdout",
     "output_type": "stream",
     "text": [
      "Enter first number20\n",
      "Enter second number40\n",
      "Enter mathematical operator*\n",
      "Result is  800\n"
     ]
    }
   ],
   "source": [
    "num1=int(input(\"Enter first number\"))\n",
    "\n",
    "num2=int(input(\"Enter second number\"))\n",
    "\n",
    "op=input(\"Enter mathematical operator\")\n",
    "\n",
    "if op=='+':\n",
    "\n",
    "     print(\"Result is \", num1+num2)\n",
    "\n",
    "if op=='-':\n",
    "\n",
    "    print(\"Result is \", num1-num2)\n",
    "\n",
    "if op=='*':\n",
    "\n",
    "    print(\"Result is \", num1*num2)\n",
    "\n",
    "if op=='/':\n",
    "\n",
    "    print(\"Result is \", num1/num2)\n",
    "\n",
    "if op=='%':\n",
    "\n",
    "    print(\"Result is \", num1%num2)"
   ]
  },
  {
   "cell_type": "code",
   "execution_count": 13,
   "id": "0dae14f4",
   "metadata": {},
   "outputs": [
    {
     "name": "stdout",
     "output_type": "stream",
     "text": [
      "Enter first number10\n",
      "Enter second number45\n",
      "Enter mathematical operator-\n",
      "Result is  -35\n"
     ]
    }
   ],
   "source": [
    "num1=int(input(\"Enter first number\"))\n",
    "\n",
    "num2=int(input(\"Enter second number\"))\n",
    "\n",
    "op=input(\"Enter mathematical operator\")\n",
    "\n",
    "if op=='+':\n",
    "\n",
    "     print(\"Result is \", num1+num2)\n",
    "\n",
    "if op=='-':\n",
    "\n",
    "    print(\"Result is \", num1-num2)\n",
    "\n",
    "if op=='*':\n",
    "\n",
    "    print(\"Result is \", num1*num2)\n",
    "\n",
    "if op=='/':\n",
    "\n",
    "    print(\"Result is \", num1/num2)\n",
    "\n",
    "if op=='%':\n",
    "\n",
    "    print(\"Result is \", num1%num2)"
   ]
  },
  {
   "cell_type": "markdown",
   "id": "523a81c8",
   "metadata": {},
   "source": [
    "# 52.Write a Program to fine multipication Table"
   ]
  },
  {
   "cell_type": "code",
   "execution_count": 14,
   "id": "50abf8b0",
   "metadata": {},
   "outputs": [
    {
     "name": "stdout",
     "output_type": "stream",
     "text": [
      "12 x 1 = 12\n",
      "12 x 2 = 24\n",
      "12 x 3 = 36\n",
      "12 x 4 = 48\n",
      "12 x 5 = 60\n",
      "12 x 6 = 72\n",
      "12 x 7 = 84\n",
      "12 x 8 = 96\n",
      "12 x 9 = 108\n",
      "12 x 10 = 120\n"
     ]
    }
   ],
   "source": [
    "# Multiplication table (from 1 to 10) in Python\n",
    "\n",
    "num = 12\n",
    "\n",
    "# To take input from the user\n",
    "# num = int(input(\"Display multiplication table of? \"))\n",
    "\n",
    "# Iterate 10 times from i = 1 to 10\n",
    "for i in range(1, 11):\n",
    "   print(num, 'x', i, '=', num*i)"
   ]
  },
  {
   "cell_type": "code",
   "execution_count": 15,
   "id": "7adc0c87",
   "metadata": {},
   "outputs": [
    {
     "name": "stdout",
     "output_type": "stream",
     "text": [
      "20 x 1 = 20\n",
      "20 x 2 = 40\n",
      "20 x 3 = 60\n",
      "20 x 4 = 80\n",
      "20 x 5 = 100\n",
      "20 x 6 = 120\n",
      "20 x 7 = 140\n",
      "20 x 8 = 160\n",
      "20 x 9 = 180\n",
      "20 x 10 = 200\n"
     ]
    }
   ],
   "source": [
    "# Multiplication table (from 1 to 10) in Python\n",
    "\n",
    "num = 20\n",
    "\n",
    "# To take input from the user\n",
    "# num = int(input(\"Display multiplication table of? \"))\n",
    "\n",
    "# Iterate 10 times from i = 1 to 10\n",
    "for i in range(1, 11):\n",
    "   print(num, 'x', i, '=', num*i)"
   ]
  },
  {
   "cell_type": "markdown",
   "id": "2137620a",
   "metadata": {},
   "source": [
    "# 53.How to flatten a 2D list in Python"
   ]
  },
  {
   "cell_type": "code",
   "execution_count": 16,
   "id": "5bb3ea91",
   "metadata": {},
   "outputs": [
    {
     "name": "stdout",
     "output_type": "stream",
     "text": [
      "[1, 2, 3, 4, 5, 6, 7, 8, 9]\n"
     ]
    }
   ],
   "source": [
    "L = [1,2,3,4,5,[6,7,8,9,]]\n",
    "flt  = []\n",
    "\n",
    "for i in L:\n",
    "    if type(i) == list:\n",
    "        flt.extend(i)\n",
    "    else:\n",
    "        flt.append(i)\n",
    "print(flt)"
   ]
  },
  {
   "cell_type": "markdown",
   "id": "4c7a407a",
   "metadata": {},
   "source": [
    "# 54.Convert items of the List into Dictionary\n"
   ]
  },
  {
   "cell_type": "code",
   "execution_count": 17,
   "id": "3213dccf",
   "metadata": {},
   "outputs": [
    {
     "name": "stdout",
     "output_type": "stream",
     "text": [
      "{1: 1, 2: 4, 3: 9, 4: 16, 5: 25, 6: 36, 7: 49, 8: 64, 9: 81}\n"
     ]
    }
   ],
   "source": [
    "l = [1,2,3,4,5,6,7,8,9]\n",
    "\n",
    "d = {}\n",
    "\n",
    "for i in l:\n",
    "    d[i] = i ** 2\n",
    "print(d)"
   ]
  },
  {
   "cell_type": "markdown",
   "id": "db772a16",
   "metadata": {},
   "source": [
    "# 55.Python Program to Convert Decimal to Binary, Octal and Hexadecimal"
   ]
  },
  {
   "cell_type": "code",
   "execution_count": 18,
   "id": "23f4b106",
   "metadata": {},
   "outputs": [
    {
     "name": "stdout",
     "output_type": "stream",
     "text": [
      "The decimal value of 344 is:\n",
      "0b101011000 in binary.\n",
      "0o530 in octal.\n",
      "0x158 in hexadecimal.\n"
     ]
    }
   ],
   "source": [
    "# Python program to convert decimal into other number systems\n",
    "dec = 344\n",
    "\n",
    "print(\"The decimal value of\", dec, \"is:\")\n",
    "print(bin(dec), \"in binary.\")\n",
    "print(oct(dec), \"in octal.\")\n",
    "print(hex(dec), \"in hexadecimal.\")\n"
   ]
  },
  {
   "cell_type": "markdown",
   "id": "ee10f853",
   "metadata": {},
   "source": [
    " # 56.Python Program to Represent enum"
   ]
  },
  {
   "cell_type": "code",
   "execution_count": 19,
   "id": "7bd34070",
   "metadata": {},
   "outputs": [
    {
     "name": "stdout",
     "output_type": "stream",
     "text": [
      "Day.MONDAY\n",
      "MONDAY\n",
      "1\n"
     ]
    }
   ],
   "source": [
    "from enum import Enum\n",
    "\n",
    "class Day(Enum):\n",
    "    MONDAY = 1\n",
    "    TUESDAY = 2\n",
    "    WEDNESDAY = 3\n",
    "\n",
    "# print the enum member\n",
    "print(Day.MONDAY)\n",
    "\n",
    "# get the name of the enum member\n",
    "print(Day.MONDAY.name)\n",
    "\n",
    "# get the value of the enum member\n",
    "print(Day.MONDAY.value)"
   ]
  },
  {
   "cell_type": "markdown",
   "id": "31dae577",
   "metadata": {},
   "source": [
    "# 57.Python Program to Create a Countdown Timer"
   ]
  },
  {
   "cell_type": "code",
   "execution_count": 20,
   "id": "2d635d2a",
   "metadata": {},
   "outputs": [
    {
     "name": "stdout",
     "output_type": "stream",
     "text": [
      "stop1\n"
     ]
    }
   ],
   "source": [
    "import time\n",
    "\n",
    "def countdown(time_sec):\n",
    "    while time_sec:\n",
    "        mins, secs = divmod(time_sec, 60)\n",
    "        timeformat = '{:02d}:{:02d}'.format(mins, secs)\n",
    "        print(timeformat, end='\\r')\n",
    "        time.sleep(1)\n",
    "        time_sec -= 1\n",
    "\n",
    "    print(\"stop\")\n",
    "\n",
    "countdown(5)"
   ]
  },
  {
   "cell_type": "markdown",
   "id": "db2f804a",
   "metadata": {},
   "source": [
    "# 58.Python Program To Make Calender"
   ]
  },
  {
   "cell_type": "code",
   "execution_count": 21,
   "id": "64cb3044",
   "metadata": {},
   "outputs": [
    {
     "name": "stdout",
     "output_type": "stream",
     "text": [
      "   November 2017\n",
      "Mo Tu We Th Fr Sa Su\n",
      "       1  2  3  4  5\n",
      " 6  7  8  9 10 11 12\n",
      "13 14 15 16 17 18 19\n",
      "20 21 22 23 24 25 26\n",
      "27 28 29 30\n",
      "\n"
     ]
    }
   ],
   "source": [
    "# Python program to display calendar of\n",
    "# given month of the year\n",
    " \n",
    "# import module\n",
    "import calendar\n",
    " \n",
    "yy = 2017\n",
    "mm = 11\n",
    " \n",
    "# display the calendar\n",
    "print(calendar.month(yy, mm))"
   ]
  },
  {
   "cell_type": "code",
   "execution_count": 22,
   "id": "477388ab",
   "metadata": {},
   "outputs": [
    {
     "name": "stdout",
     "output_type": "stream",
     "text": [
      "     June 2022\n",
      "Mo Tu We Th Fr Sa Su\n",
      "       1  2  3  4  5\n",
      " 6  7  8  9 10 11 12\n",
      "13 14 15 16 17 18 19\n",
      "20 21 22 23 24 25 26\n",
      "27 28 29 30\n",
      "\n"
     ]
    }
   ],
   "source": [
    "# Python program to display calendar of\n",
    "# given month of the year\n",
    " \n",
    "# import module\n",
    "import calendar\n",
    " \n",
    "yy = 2022\n",
    "mm = 6\n",
    " \n",
    "# display the calendar\n",
    "print(calendar.month(yy, mm))"
   ]
  },
  {
   "cell_type": "markdown",
   "id": "943c5aeb",
   "metadata": {},
   "source": [
    "# 59. Import All calenders"
   ]
  },
  {
   "cell_type": "code",
   "execution_count": 23,
   "id": "d4053b88",
   "metadata": {},
   "outputs": [
    {
     "name": "stdout",
     "output_type": "stream",
     "text": [
      "                                  2022\n",
      "\n",
      "      January                   February                   March\n",
      "Mo Tu We Th Fr Sa Su      Mo Tu We Th Fr Sa Su      Mo Tu We Th Fr Sa Su\n",
      "                1  2          1  2  3  4  5  6          1  2  3  4  5  6\n",
      " 3  4  5  6  7  8  9       7  8  9 10 11 12 13       7  8  9 10 11 12 13\n",
      "10 11 12 13 14 15 16      14 15 16 17 18 19 20      14 15 16 17 18 19 20\n",
      "17 18 19 20 21 22 23      21 22 23 24 25 26 27      21 22 23 24 25 26 27\n",
      "24 25 26 27 28 29 30      28                        28 29 30 31\n",
      "31\n",
      "\n",
      "       April                      May                       June\n",
      "Mo Tu We Th Fr Sa Su      Mo Tu We Th Fr Sa Su      Mo Tu We Th Fr Sa Su\n",
      "             1  2  3                         1             1  2  3  4  5\n",
      " 4  5  6  7  8  9 10       2  3  4  5  6  7  8       6  7  8  9 10 11 12\n",
      "11 12 13 14 15 16 17       9 10 11 12 13 14 15      13 14 15 16 17 18 19\n",
      "18 19 20 21 22 23 24      16 17 18 19 20 21 22      20 21 22 23 24 25 26\n",
      "25 26 27 28 29 30         23 24 25 26 27 28 29      27 28 29 30\n",
      "                          30 31\n",
      "\n",
      "        July                     August                  September\n",
      "Mo Tu We Th Fr Sa Su      Mo Tu We Th Fr Sa Su      Mo Tu We Th Fr Sa Su\n",
      "             1  2  3       1  2  3  4  5  6  7                1  2  3  4\n",
      " 4  5  6  7  8  9 10       8  9 10 11 12 13 14       5  6  7  8  9 10 11\n",
      "11 12 13 14 15 16 17      15 16 17 18 19 20 21      12 13 14 15 16 17 18\n",
      "18 19 20 21 22 23 24      22 23 24 25 26 27 28      19 20 21 22 23 24 25\n",
      "25 26 27 28 29 30 31      29 30 31                  26 27 28 29 30\n",
      "\n",
      "      October                   November                  December\n",
      "Mo Tu We Th Fr Sa Su      Mo Tu We Th Fr Sa Su      Mo Tu We Th Fr Sa Su\n",
      "                1  2          1  2  3  4  5  6                1  2  3  4\n",
      " 3  4  5  6  7  8  9       7  8  9 10 11 12 13       5  6  7  8  9 10 11\n",
      "10 11 12 13 14 15 16      14 15 16 17 18 19 20      12 13 14 15 16 17 18\n",
      "17 18 19 20 21 22 23      21 22 23 24 25 26 27      19 20 21 22 23 24 25\n",
      "24 25 26 27 28 29 30      28 29 30                  26 27 28 29 30 31\n",
      "31\n",
      "\n"
     ]
    }
   ],
   "source": [
    "\n",
    "# Python program to display calendar of\n",
    "# given year\n",
    " \n",
    "# import module\n",
    "import calendar\n",
    " \n",
    "yy = 2022\n",
    " \n",
    "# display the calendar\n",
    "print(calendar.calendar(yy))"
   ]
  },
  {
   "cell_type": "markdown",
   "id": "6bff7c52",
   "metadata": {},
   "source": [
    "# 60.Python Program To print current time and date"
   ]
  },
  {
   "cell_type": "code",
   "execution_count": 24,
   "id": "875c96bc",
   "metadata": {},
   "outputs": [
    {
     "name": "stdout",
     "output_type": "stream",
     "text": [
      "now = 2022-06-28 23:00:50.676821\n",
      "date and time = 28/06/2022 23:00:50\n"
     ]
    }
   ],
   "source": [
    "from datetime import datetime\n",
    "\n",
    "# datetime object containing current date and time\n",
    "now = datetime.now()\n",
    " \n",
    "print(\"now =\", now)\n",
    "\n",
    "# dd/mm/YY H:M:S\n",
    "dt_string = now.strftime(\"%d/%m/%Y %H:%M:%S\")\n",
    "print(\"date and time =\", dt_string)\t"
   ]
  }
 ],
 "metadata": {
  "kernelspec": {
   "display_name": "Python 3 (ipykernel)",
   "language": "python",
   "name": "python3"
  },
  "language_info": {
   "codemirror_mode": {
    "name": "ipython",
    "version": 3
   },
   "file_extension": ".py",
   "mimetype": "text/x-python",
   "name": "python",
   "nbconvert_exporter": "python",
   "pygments_lexer": "ipython3",
   "version": "3.9.12"
  }
 },
 "nbformat": 4,
 "nbformat_minor": 5
}
