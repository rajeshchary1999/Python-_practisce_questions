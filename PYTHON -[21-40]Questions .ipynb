{
 "cells": [
  {
   "cell_type": "markdown",
   "id": "97cc1bf5",
   "metadata": {},
   "source": [
    "# 21.Write a program that will swap numbers"
   ]
  },
  {
   "cell_type": "code",
   "execution_count": 1,
   "id": "e6d65a93",
   "metadata": {},
   "outputs": [
    {
     "name": "stdout",
     "output_type": "stream",
     "text": [
      "enter your 1st number25\n",
      "enter your 2nd number14\n",
      "after swapping\n",
      "num1= 14\n",
      "num2= 25\n"
     ]
    }
   ],
   "source": [
    "# user inputs\n",
    "num1 = int(input(\"enter your 1st number\"))\n",
    "num2 = int(input(\"enter your 2nd number\"))\n",
    "\n",
    "num1,num2 = num2,num1\n",
    "print(\"after swapping\")\n",
    "print(\"num1=\",num1)\n",
    "print(\"num2=\",num2)"
   ]
  },
  {
   "cell_type": "markdown",
   "id": "dc860e95",
   "metadata": {},
   "source": [
    "# 22.Write a program to find the sum of first n numbers, where n will be provided by the user. Eg if the user provides n=10 the output should be 55."
   ]
  },
  {
   "cell_type": "code",
   "execution_count": 2,
   "id": "644e1823",
   "metadata": {},
   "outputs": [
    {
     "name": "stdout",
     "output_type": "stream",
     "text": [
      "Enter Your Sum Number10\n",
      "your sum is: 55.0\n"
     ]
    }
   ],
   "source": [
    "# user input\n",
    "n = int(input(\"Enter Your Sum Number\"))\n",
    "\n",
    "# sum \n",
    "s = n * (n + 1)/2\n",
    "\n",
    "print(\"your sum is:\",s)"
   ]
  },
  {
   "cell_type": "markdown",
   "id": "0b310924",
   "metadata": {},
   "source": [
    "# 23.Write a program that can multiply 2 numbers provided by the user without using the * operator"
   ]
  },
  {
   "cell_type": "code",
   "execution_count": 3,
   "id": "11a034b7",
   "metadata": {},
   "outputs": [
    {
     "name": "stdout",
     "output_type": "stream",
     "text": [
      "enter your 1st number2\n",
      "enter your 2nd number2\n",
      "your number is: 4\n"
     ]
    }
   ],
   "source": [
    "# using * \n",
    "a = int(input(\"enter your 1st number\"))       # user input\n",
    "\n",
    "b = int(input(\"enter your 2nd number\"))\n",
    "\n",
    "mul = a * b\n",
    "\n",
    "print(\"your number is:\",mul)"
   ]
  },
  {
   "cell_type": "code",
   "execution_count": 4,
   "id": "b55502b5",
   "metadata": {},
   "outputs": [
    {
     "name": "stdout",
     "output_type": "stream",
     "text": [
      "enter your 1st number2\n",
      "enter your 2nd number2\n",
      "your result is : 4\n"
     ]
    }
   ],
   "source": [
    "# without *\n",
    "a = int(input(\"enter your 1st number\"))      # user input\n",
    "b = int(input(\"enter your 2nd number\"))\n",
    "sum = 0   \n",
    "\n",
    "for i in range(0,a):\n",
    "    sum = sum + b\n",
    "print(\"your result is :\",sum)"
   ]
  },
  {
   "cell_type": "markdown",
   "id": "9c32b71a",
   "metadata": {},
   "source": [
    "# 24.Write a program that can find the factorial of a given number provided by the user."
   ]
  },
  {
   "cell_type": "code",
   "execution_count": 5,
   "id": "5e3adbd5",
   "metadata": {},
   "outputs": [
    {
     "name": "stdout",
     "output_type": "stream",
     "text": [
      "enter your number10\n",
      "The factorial of num is :  3628800\n"
     ]
    }
   ],
   "source": [
    "# factorial\n",
    "# user input\n",
    "\n",
    "num  = int(input(\"enter your number\"))\n",
    "fact = 1\n",
    "\n",
    "for i in range(1,num+1):\n",
    "    fact = fact * i\n",
    "print (\"The factorial of num is : \",end = \" \")\n",
    "print (fact)"
   ]
  },
  {
   "cell_type": "markdown",
   "id": "6b8cf9a9",
   "metadata": {},
   "source": [
    "# 25.Write a program to print the first 25 odd numbers"
   ]
  },
  {
   "cell_type": "code",
   "execution_count": 6,
   "id": "40a6d53f",
   "metadata": {},
   "outputs": [
    {
     "name": "stdout",
     "output_type": "stream",
     "text": [
      "1\n",
      "3\n",
      "5\n",
      "7\n",
      "9\n",
      "11\n",
      "13\n",
      "15\n",
      "17\n",
      "19\n",
      "21\n",
      "23\n",
      "25\n",
      "27\n",
      "29\n",
      "31\n",
      "33\n",
      "35\n",
      "37\n",
      "39\n",
      "41\n",
      "43\n",
      "45\n",
      "47\n",
      "49\n"
     ]
    }
   ],
   "source": [
    "# odd number\n",
    "odd = 0\n",
    "i = 1\n",
    "\n",
    "#condition\n",
    "while True:\n",
    "    if i%2 != 0:\n",
    "        print(i)\n",
    "        odd = odd + 1\n",
    "    if odd == 25:\n",
    "        break \n",
    "    i = i + 1"
   ]
  },
  {
   "cell_type": "markdown",
   "id": "5ba05733",
   "metadata": {},
   "source": [
    "# 26.Write a program to print whether a given number is prime number or not"
   ]
  },
  {
   "cell_type": "code",
   "execution_count": 7,
   "id": "9a63f973",
   "metadata": {},
   "outputs": [
    {
     "name": "stdout",
     "output_type": "stream",
     "text": [
      "Enter any number2\n",
      "number is prime\n"
     ]
    }
   ],
   "source": [
    "k=0\n",
    "num1 = int(input(\"Enter any number\"))\n",
    "if num1 == 0 or num1 == 1:\n",
    "     k=1\n",
    "for i in range(2,num1):\n",
    "     if num1%i == 0:\n",
    "          k = 1\n",
    "if k==1:\n",
    "     print(\"number is not prime\")\n",
    "else:\n",
    "     print(\"number is prime\")"
   ]
  },
  {
   "cell_type": "code",
   "execution_count": 8,
   "id": "dc23dcfe",
   "metadata": {},
   "outputs": [
    {
     "name": "stdout",
     "output_type": "stream",
     "text": [
      "Enter any number5\n",
      "number is prime\n"
     ]
    }
   ],
   "source": [
    "k = 0\n",
    "num1 = int(input(\"Enter any number\"))\n",
    "if num1 == 0 or num1 == 1:\n",
    "    k =1\n",
    "for i in range(2,num1):\n",
    "    if num1%i == 0:\n",
    "         k =1\n",
    "if k == 1:\n",
    "    print(\"number is not prime\")\n",
    "else:\n",
    "    print(\"number is prime\")"
   ]
  },
  {
   "cell_type": "markdown",
   "id": "19355c62",
   "metadata": {},
   "source": [
    "# 27.Print all the armstrong numbers in the range of 100 to 1000\n",
    "        "
   ]
  },
  {
   "cell_type": "code",
   "execution_count": 9,
   "id": "58585548",
   "metadata": {},
   "outputs": [
    {
     "name": "stdout",
     "output_type": "stream",
     "text": [
      "407\n"
     ]
    }
   ],
   "source": [
    "# for condition\n",
    "\n",
    "for num in range(100,1000):\n",
    "    \n",
    "    i = num \n",
    "    a = num % 10\n",
    "    num = num // 100\n",
    "    b = num % 10\n",
    "    c = num // 10\n",
    "    \n",
    "    if (a**3) + (b**3) + (c**3) == i:\n",
    "        print(i)\n",
    "    i = i + 1"
   ]
  },
  {
   "cell_type": "markdown",
   "id": "6d6eccc4",
   "metadata": {},
   "source": [
    "# 28.Write a program to print all the unique combinations of 1,2,3 and 4\n"
   ]
  },
  {
   "cell_type": "code",
   "execution_count": 10,
   "id": "29d2096e",
   "metadata": {},
   "outputs": [
    {
     "name": "stdout",
     "output_type": "stream",
     "text": [
      "(1, 2)\n",
      "(1, 3)\n",
      "(1, 4)\n",
      "(2, 1)\n",
      "(2, 3)\n",
      "(2, 4)\n",
      "(3, 1)\n",
      "(3, 2)\n",
      "(3, 4)\n",
      "(4, 1)\n",
      "(4, 2)\n",
      "(4, 3)\n"
     ]
    }
   ],
   "source": [
    "\n",
    "# Python program to print all\n",
    "# the possible combinations\n",
    "  \n",
    "from itertools import permutations\n",
    "  \n",
    "# Get all combination of [1, 2, 3, 4]\n",
    "# of length 2\n",
    "comb = permutations([1, 2, 3, 4], 2)\n",
    "  \n",
    "for i in comb:\n",
    "    print(i)"
   ]
  },
  {
   "cell_type": "code",
   "execution_count": 11,
   "id": "cb8e8af8",
   "metadata": {},
   "outputs": [
    {
     "name": "stdout",
     "output_type": "stream",
     "text": [
      "(1, 2, 3)\n",
      "(1, 3, 2)\n",
      "(2, 1, 3)\n",
      "(2, 3, 1)\n",
      "(3, 1, 2)\n",
      "(3, 2, 1)\n"
     ]
    }
   ],
   "source": [
    "from itertools import permutations\n",
    "\n",
    "comb = permutations ([1,2,3],3)\n",
    "for i in comb:\n",
    "    print(i)"
   ]
  },
  {
   "cell_type": "markdown",
   "id": "d3ce4520",
   "metadata": {},
   "source": [
    "# 29.User will provide 2 numbers you have to find the HCF of those 2 numbers"
   ]
  },
  {
   "cell_type": "code",
   "execution_count": 12,
   "id": "ec2faae3",
   "metadata": {},
   "outputs": [
    {
     "name": "stdout",
     "output_type": "stream",
     "text": [
      "enter your 1st number25\n",
      "enter your 2nd number2\n",
      "Your HCF Number is: 1\n"
     ]
    }
   ],
   "source": [
    "# Highest Common Factor\n",
    "                                                                    \n",
    "a = int(input(\"enter your 1st number\"))                             \n",
    "                                                                    \n",
    "b = int(input(\"enter your 2nd number\"))\n",
    " \n",
    "while a % b != 0:\n",
    "    rem = a % b\n",
    "    a = b\n",
    "    b = rem \n",
    "print(\"Your HCF Number is:\",b)"
   ]
  },
  {
   "cell_type": "code",
   "execution_count": 13,
   "id": "6214b812",
   "metadata": {},
   "outputs": [
    {
     "name": "stdout",
     "output_type": "stream",
     "text": [
      "enter your 1st number25\n",
      "enter your 2nd number45\n",
      "Your HCF Number is: 5\n"
     ]
    }
   ],
   "source": [
    "# Highest Common Factor\n",
    "                                                                    \n",
    "a = int(input(\"enter your 1st number\"))                             \n",
    "                                                                    \n",
    "b = int(input(\"enter your 2nd number\"))\n",
    " \n",
    "while a % b != 0:\n",
    "    rem = a % b\n",
    "    a = b\n",
    "    b = rem \n",
    "print(\"Your HCF Number is:\",b)"
   ]
  },
  {
   "cell_type": "markdown",
   "id": "89aabc35",
   "metadata": {},
   "source": [
    "# 30.User will provide 2 numbers you have to find the by LCM of those 2 numbers"
   ]
  },
  {
   "cell_type": "code",
   "execution_count": 14,
   "id": "5bea1cc0",
   "metadata": {},
   "outputs": [],
   "source": [
    "# Python Program to find the L.C.M. of two input number\n",
    "\n",
    "def compute_lcm(x, y):\n",
    "\n",
    "   # choose the greater number\n",
    "   if x > y:\n",
    "       greater = x\n",
    "   else:\n",
    "       greater = y\n",
    "\n",
    "   while(True):\n",
    "       if((greater % x == 0) and (greater % y == 0)):\n",
    "           lcm = greater\n",
    "           break\n",
    "       greater += 1\n",
    "\n",
    "   return lcm"
   ]
  },
  {
   "cell_type": "code",
   "execution_count": 15,
   "id": "bcd43165",
   "metadata": {},
   "outputs": [
    {
     "data": {
      "text/plain": [
       "6"
      ]
     },
     "execution_count": 15,
     "metadata": {},
     "output_type": "execute_result"
    }
   ],
   "source": [
    "compute_lcm(2,3)"
   ]
  },
  {
   "cell_type": "code",
   "execution_count": 16,
   "id": "d8146a76",
   "metadata": {},
   "outputs": [],
   "source": [
    "def comput_lcm(x, y ):\n",
    "    \n",
    "    if x > y:\n",
    "        greater = x\n",
    "    else:\n",
    "        greater = y\n",
    "    while(True):\n",
    "        if((greater % x == 0)) and ((greater % y == 0)):\n",
    "            lcm = greater\n",
    "            break\n",
    "        greater += 1\n",
    "    return lcm"
   ]
  },
  {
   "cell_type": "code",
   "execution_count": 17,
   "id": "d130af01",
   "metadata": {},
   "outputs": [
    {
     "data": {
      "text/plain": [
       "50"
      ]
     },
     "execution_count": 17,
     "metadata": {},
     "output_type": "execute_result"
    }
   ],
   "source": [
    "compute_lcm(10,25)"
   ]
  },
  {
   "cell_type": "markdown",
   "id": "57c55ed5",
   "metadata": {},
   "source": [
    "# 31.Print first 25 prime numbers"
   ]
  },
  {
   "cell_type": "code",
   "execution_count": 18,
   "id": "ad9bba7c",
   "metadata": {},
   "outputs": [
    {
     "name": "stdout",
     "output_type": "stream",
     "text": [
      "2\n",
      "3\n",
      "5\n",
      "7\n",
      "11\n",
      "13\n",
      "17\n",
      "19\n",
      "23\n",
      "29\n",
      "31\n",
      "37\n",
      "41\n",
      "43\n",
      "47\n",
      "53\n",
      "59\n",
      "61\n",
      "67\n",
      "71\n",
      "73\n",
      "79\n",
      "83\n",
      "89\n",
      "97\n",
      "101\n"
     ]
    }
   ],
   "source": [
    "prime  =  0\n",
    "num = 2\n",
    "\n",
    "while (prime <= 25):\n",
    "    for i in range (2,num):\n",
    "        if num % i == 0:\n",
    "            break \n",
    "    else:\n",
    "        print(num)\n",
    "        prime = prime  + 1\n",
    "    num = num + 1"
   ]
  },
  {
   "cell_type": "code",
   "execution_count": 19,
   "id": "34d87b69",
   "metadata": {},
   "outputs": [
    {
     "name": "stdout",
     "output_type": "stream",
     "text": [
      "2\n",
      "3\n",
      "5\n",
      "7\n",
      "11\n",
      "13\n"
     ]
    }
   ],
   "source": [
    "prime  =  0\n",
    "num = 2\n",
    "\n",
    "while (prime <= 5):\n",
    "    for i in range (2,num):\n",
    "        if num % i == 0:\n",
    "            break \n",
    "    else:\n",
    "        print(num)\n",
    "        prime = prime  + 1\n",
    "    num = num + 1"
   ]
  },
  {
   "cell_type": "markdown",
   "id": "5344a0cb",
   "metadata": {},
   "source": [
    "# 32.Print the first 20 numbers of a Fibonacci series"
   ]
  },
  {
   "cell_type": "code",
   "execution_count": 20,
   "id": "e02ff59a",
   "metadata": {},
   "outputs": [
    {
     "name": "stdout",
     "output_type": "stream",
     "text": [
      "0\n",
      "1\n",
      "1\n",
      "2\n",
      "3\n",
      "5\n",
      "8\n",
      "13\n",
      "21\n",
      "34\n",
      "55\n",
      "89\n",
      "144\n",
      "233\n",
      "377\n",
      "610\n",
      "987\n",
      "1597\n",
      "2584\n",
      "4181\n"
     ]
    }
   ],
   "source": [
    "fib  = 0\n",
    "a = 0\n",
    "b = 1\n",
    "print(a)\n",
    "print(b)\n",
    "\n",
    "while True :\n",
    "    c = a + b\n",
    "    a = b\n",
    "    b = c\n",
    "    print(c)\n",
    "    fib = fib + 1\n",
    "    if fib  == 18:\n",
    "        break"
   ]
  },
  {
   "cell_type": "markdown",
   "id": "0f7cf815",
   "metadata": {},
   "source": [
    "# 33. Find the average of given user inputs\n"
   ]
  },
  {
   "cell_type": "code",
   "execution_count": 21,
   "id": "fbc40532",
   "metadata": {},
   "outputs": [
    {
     "name": "stdout",
     "output_type": "stream",
     "text": [
      "Enter the number 10\n",
      "Enter the number 10\n",
      "Enter the number 20\n",
      "Average of given Numbers: 13.333333333333334\n"
     ]
    }
   ],
   "source": [
    "p = 3\n",
    "sum = 0\n",
    "count = 0\n",
    "\n",
    "while p > 0:\n",
    "    count += 1\n",
    "    f = int(input(\"Enter the number \"))\n",
    "    sum += f\n",
    "    p -= 1\n",
    "  \n",
    "average = sum/count\n",
    "print(\"Average of given Numbers:\",average)"
   ]
  },
  {
   "cell_type": "markdown",
   "id": "6cc60a46",
   "metadata": {},
   "source": [
    "# 34. Make A guess from the program"
   ]
  },
  {
   "cell_type": "code",
   "execution_count": 22,
   "id": "b95a503c",
   "metadata": {},
   "outputs": [],
   "source": [
    "import random"
   ]
  },
  {
   "cell_type": "code",
   "execution_count": 23,
   "id": "51699df9",
   "metadata": {},
   "outputs": [
    {
     "name": "stdout",
     "output_type": "stream",
     "text": [
      "make a guess50\n",
      "guess lower\n",
      "make a guess40\n",
      "guess higher\n",
      "make a guess45\n",
      "guess higher\n",
      "make a guess46\n",
      "guess higher\n",
      "make a guess48\n",
      "corect guess\n",
      "you took 5 attempts\n"
     ]
    }
   ],
   "source": [
    "jackpot = random.randint(1,100)\n",
    "\n",
    "guess = int(input(\"make a guess\"))\n",
    "counter = 1 \n",
    "\n",
    "\n",
    "while guess != jackpot:\n",
    "  if guess < jackpot:\n",
    "    print(\"guess higher\")\n",
    "  else:\n",
    "    print(\"guess lower\")\n",
    "\n",
    "  guess = int(input(\"make a guess\"))\n",
    "  counter+= 1\n",
    "\n",
    "print(\"corect guess\")\n",
    "print(\"you took\",counter,\"attempts\")"
   ]
  },
  {
   "cell_type": "markdown",
   "id": "bfb7683d",
   "metadata": {},
   "source": [
    "# 35.Write a program to find the compound interest "
   ]
  },
  {
   "cell_type": "code",
   "execution_count": 24,
   "id": "9b63b5ba",
   "metadata": {},
   "outputs": [
    {
     "name": "stdout",
     "output_type": "stream",
     "text": [
      "enter your principle amount1000\n",
      "enter your rate of intrest2\n",
      "enter your time period2\n",
      "Your amount is: 1040.4\n",
      "Your compound intrest is : 40.40000000000009\n"
     ]
    }
   ],
   "source": [
    "p = int(input(\"enter your principle amount\"))\n",
    "r = int(input(\"enter your rate of intrest\"))\n",
    "t = int(input(\"enter your time period\"))\n",
    "\n",
    "\n",
    "a = p*(1+r/100)**t\n",
    "print(\"Your amount is:\",a)\n",
    "\n",
    "ci = a - p\n",
    "print(\"Your compound intrest is :\",ci)"
   ]
  },
  {
   "cell_type": "markdown",
   "id": "3a19bac2",
   "metadata": {},
   "source": [
    "# 36.Write a Python program that accepts an integer (n) and computes the value of n+nn+nnn."
   ]
  },
  {
   "cell_type": "code",
   "execution_count": 25,
   "id": "2ef279db",
   "metadata": {},
   "outputs": [
    {
     "name": "stdout",
     "output_type": "stream",
     "text": [
      "enter your number2\n",
      "n is : 2\n",
      "nn is : 22\n",
      "nnn is : 222\n",
      "4181\n"
     ]
    }
   ],
   "source": [
    "# user\n",
    "n = input(\"enter your number\")\n",
    "print(\"n is :\",n)\n",
    "nn = n + n\n",
    "print(\"nn is :\",nn)\n",
    "nnn = n + n + n\n",
    "print(\"nnn is :\",nnn)\n",
    "\n",
    "b = int(n) + int(nn) + int(nnn)\n",
    "print(c)"
   ]
  },
  {
   "cell_type": "code",
   "execution_count": 26,
   "id": "10fd140b",
   "metadata": {},
   "outputs": [
    {
     "name": "stdout",
     "output_type": "stream",
     "text": [
      "enter your number5\n",
      "n is : 5\n",
      "nn is : 55\n",
      "nnn is : 555\n",
      "nnnn is : 5555\n",
      "4181\n"
     ]
    }
   ],
   "source": [
    "# user\n",
    "n = input(\"enter your number\")\n",
    "print(\"n is :\",n)\n",
    "nn = n + n\n",
    "print(\"nn is :\",nn)\n",
    "nnn = n + n + n\n",
    "print(\"nnn is :\",nnn)\n",
    "nnnn = n + n + n + n\n",
    "print(\"nnnn is :\",nnnn)\n",
    "\n",
    "b = int(n) + int(nn) + int(nnn) + int(nnnn)\n",
    "print(c)"
   ]
  },
  {
   "cell_type": "markdown",
   "id": "0d1c4cb9",
   "metadata": {},
   "source": [
    "# 37.Take a number from the user and find the number of digits in it. "
   ]
  },
  {
   "cell_type": "code",
   "execution_count": 27,
   "id": "fe219270",
   "metadata": {},
   "outputs": [
    {
     "name": "stdout",
     "output_type": "stream",
     "text": [
      "enter your number*25\n",
      "Number of digits : 2\n"
     ]
    }
   ],
   "source": [
    "a = int(input('enter your number*'))\n",
    "count = 0\n",
    "while(a > 0):\n",
    "    a = a // 10\n",
    "    count = count + 1\n",
    "print('Number of digits :',count)\n"
   ]
  },
  {
   "cell_type": "code",
   "execution_count": 28,
   "id": "c5d5d9e5",
   "metadata": {},
   "outputs": [
    {
     "name": "stdout",
     "output_type": "stream",
     "text": [
      "enter your number*741852\n",
      "Number of digits : 6\n"
     ]
    }
   ],
   "source": [
    "a = int(input('enter your number*'))\n",
    "count = 0\n",
    "while(a > 0):\n",
    "    a = a // 10\n",
    "    count = count + 1\n",
    "print('Number of digits :',count)\n"
   ]
  },
  {
   "cell_type": "markdown",
   "id": "f3736a48",
   "metadata": {},
   "source": [
    "# 38.Print all factors of a given number provided by the user."
   ]
  },
  {
   "cell_type": "code",
   "execution_count": 29,
   "id": "9c9d05ac",
   "metadata": {},
   "outputs": [
    {
     "name": "stdout",
     "output_type": "stream",
     "text": [
      "enter your numnber2\n",
      "your factors are: 1\n",
      "your factors are: 2\n"
     ]
    }
   ],
   "source": [
    "factor = int(input(\"enter your numnber\"))\n",
    "\n",
    "#for condition\n",
    "for i in range(1,factor + 1):\n",
    "    if factor % i == 0:\n",
    "        print(\"your factors are:\",i)"
   ]
  },
  {
   "cell_type": "markdown",
   "id": "c9eeefeb",
   "metadata": {},
   "source": [
    "# 39.Find the reverse of a number provided by the user(any number of digit) "
   ]
  },
  {
   "cell_type": "code",
   "execution_count": 30,
   "id": "65f133b9",
   "metadata": {},
   "outputs": [
    {
     "name": "stdout",
     "output_type": "stream",
     "text": [
      "enter the number : 12345\n",
      "54321\n"
     ]
    }
   ],
   "source": [
    "num = int(input(\"enter the number : \"))    # slicing\n",
    "\n",
    "reverse = print(str(num)[::-1])\n"
   ]
  },
  {
   "cell_type": "markdown",
   "id": "a2a819ef",
   "metadata": {},
   "source": [
    "# 40.Make a program if user enter correct email and password then return welcome"
   ]
  },
  {
   "cell_type": "code",
   "execution_count": 31,
   "id": "ff4b920f",
   "metadata": {},
   "outputs": [
    {
     "name": "stdout",
     "output_type": "stream",
     "text": [
      "enter emailgrajeshchary771@gmail.com\n",
      "enter passwrd12\n",
      "password incoret\n",
      "re enter password1234\n",
      "welcome\n"
     ]
    }
   ],
   "source": [
    "email = input('enter email')\n",
    "password = input('enter passwrd')\n",
    "\n",
    "\n",
    "if email == 'grajeshchary771@gmail.com' and password == '1234':\n",
    "  print('welcome')\n",
    "\n",
    "elif email == 'grajeshchary771@gmail.com' and password != '1234':\n",
    "     print('password incoret')\n",
    "     password = input(\"re enter password\")\n",
    "     print(\"welcome\")\n",
    "     \n",
    "else:\n",
    "  print('incorrect details')\n"
   ]
  }
 ],
 "metadata": {
  "kernelspec": {
   "display_name": "Python 3 (ipykernel)",
   "language": "python",
   "name": "python3"
  },
  "language_info": {
   "codemirror_mode": {
    "name": "ipython",
    "version": 3
   },
   "file_extension": ".py",
   "mimetype": "text/x-python",
   "name": "python",
   "nbconvert_exporter": "python",
   "pygments_lexer": "ipython3",
   "version": "3.9.7"
  }
 },
 "nbformat": 4,
 "nbformat_minor": 5
}
